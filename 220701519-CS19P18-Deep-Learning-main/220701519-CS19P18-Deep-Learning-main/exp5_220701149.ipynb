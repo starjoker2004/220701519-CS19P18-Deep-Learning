{
 "cells": [
  {
   "cell_type": "code",
   "execution_count": 1,
   "id": "4a72d324-0f15-4a37-b009-d9fe0068ed5d",
   "metadata": {},
   "outputs": [],
   "source": [
    "import numpy as np\n",
    "import tensorflow as tf\n",
    "from tensorflow import keras\n",
    "from tensorflow.keras import layers\n",
    "from tensorflow.keras.datasets import imdb"
   ]
  },
  {
   "cell_type": "code",
   "execution_count": 2,
   "id": "d9439155-d746-41a9-a852-f8e331179fd8",
   "metadata": {},
   "outputs": [],
   "source": [
    "vocab_size = 10000\n",
    "maxlen = 100  # Maximum review length (truncate/pad)\n"
   ]
  },
  {
   "cell_type": "code",
   "execution_count": 3,
   "id": "9620efea-f3fc-4727-ba3e-de92ac4cf165",
   "metadata": {},
   "outputs": [
    {
     "name": "stdout",
     "output_type": "stream",
     "text": [
      "Downloading data from https://storage.googleapis.com/tensorflow/tf-keras-datasets/imdb.npz\n",
      "17464789/17464789 [==============================] - 42s 2us/step\n"
     ]
    }
   ],
   "source": [
    "(x_train, y_train), (x_test, y_test) = imdb.load_data(num_words=vocab_size)\n"
   ]
  },
  {
   "cell_type": "code",
   "execution_count": 4,
   "id": "ed1ea0fa-f4f8-44e6-b4f1-982628735045",
   "metadata": {},
   "outputs": [],
   "source": [
    "x_train = keras.preprocessing.sequence.pad_sequences(x_train, maxlen=maxlen)\n",
    "x_test = keras.preprocessing.sequence.pad_sequences(x_test, maxlen=maxlen)"
   ]
  },
  {
   "cell_type": "code",
   "execution_count": 5,
   "id": "e9c29711-2c90-43fe-a889-045376c5b753",
   "metadata": {},
   "outputs": [
    {
     "name": "stdout",
     "output_type": "stream",
     "text": [
      "Training data shape: (25000, 100)\n",
      "Test data shape: (25000, 100)\n"
     ]
    }
   ],
   "source": [
    "print(f\"Training data shape: {x_train.shape}\")\n",
    "print(f\"Test data shape: {x_test.shape}\")"
   ]
  },
  {
   "cell_type": "code",
   "execution_count": 6,
   "id": "a8ccefb5-34fa-49a9-825a-65803777d236",
   "metadata": {},
   "outputs": [],
   "source": [
    "model = keras.Sequential()\n",
    "model.add(layers.Embedding(input_dim=vocab_size, output_dim=32, input_length=maxlen))\n",
    "model.add(layers.SimpleRNN(32, activation='tanh'))\n",
    "model.add(layers.Dense(1, activation='sigmoid'))"
   ]
  },
  {
   "cell_type": "code",
   "execution_count": 7,
   "id": "8516c0f2-3055-4589-9f2a-e2c0968a610a",
   "metadata": {},
   "outputs": [],
   "source": [
    "model.compile(optimizer='adam', loss='binary_crossentropy', metrics=['accuracy'])\n"
   ]
  },
  {
   "cell_type": "code",
   "execution_count": 11,
   "id": "3205e120-855e-4b00-91f0-4488ee6edc29",
   "metadata": {},
   "outputs": [
    {
     "name": "stdout",
     "output_type": "stream",
     "text": [
      "Epoch 1/10\n",
      "313/313 [==============================] - 12s 40ms/step - loss: 0.0301 - accuracy: 0.9919 - val_loss: 0.6595 - val_accuracy: 0.8144\n",
      "Epoch 2/10\n",
      "313/313 [==============================] - 13s 42ms/step - loss: 0.0234 - accuracy: 0.9932 - val_loss: 0.7159 - val_accuracy: 0.8154\n",
      "Epoch 3/10\n",
      "313/313 [==============================] - 13s 41ms/step - loss: 0.0214 - accuracy: 0.9937 - val_loss: 0.7918 - val_accuracy: 0.8156\n",
      "Epoch 4/10\n",
      "313/313 [==============================] - 13s 42ms/step - loss: 0.0187 - accuracy: 0.9946 - val_loss: 0.8255 - val_accuracy: 0.8116\n",
      "Epoch 5/10\n",
      "313/313 [==============================] - 12s 40ms/step - loss: 0.0266 - accuracy: 0.9914 - val_loss: 1.0061 - val_accuracy: 0.7972\n",
      "Epoch 6/10\n",
      "313/313 [==============================] - 14s 44ms/step - loss: 0.0148 - accuracy: 0.9955 - val_loss: 0.8737 - val_accuracy: 0.8104\n",
      "Epoch 7/10\n",
      "313/313 [==============================] - 13s 42ms/step - loss: 0.0047 - accuracy: 0.9991 - val_loss: 0.9164 - val_accuracy: 0.8126\n",
      "Epoch 8/10\n",
      "313/313 [==============================] - 13s 42ms/step - loss: 0.0023 - accuracy: 0.9998 - val_loss: 0.9528 - val_accuracy: 0.8132\n",
      "Epoch 9/10\n",
      "313/313 [==============================] - 13s 42ms/step - loss: 0.0020 - accuracy: 0.9997 - val_loss: 0.9799 - val_accuracy: 0.8048\n",
      "Epoch 10/10\n",
      "313/313 [==============================] - 12s 39ms/step - loss: 5.3224e-04 - accuracy: 1.0000 - val_loss: 1.0127 - val_accuracy: 0.8056\n"
     ]
    }
   ],
   "source": [
    "history = model.fit(\n",
    "    x_train, y_train,\n",
    "    epochs=10,\n",
    "    batch_size=64,\n",
    "    validation_split=0.2\n",
    ")\n"
   ]
  },
  {
   "cell_type": "code",
   "execution_count": 12,
   "id": "956c38e7-e591-4947-ae2f-cf2bca1d69de",
   "metadata": {},
   "outputs": [
    {
     "name": "stdout",
     "output_type": "stream",
     "text": [
      "782/782 - 7s - loss: 1.0652 - accuracy: 0.8038 - 7s/epoch - 8ms/step\n",
      "Test Accuracy: 0.8038\n",
      "Test Loss: 1.0652\n"
     ]
    }
   ],
   "source": [
    "test_loss, test_acc = model.evaluate(x_test, y_test, verbose=2)\n",
    "print(f\"Test Accuracy: {test_acc:.4f}\")\n",
    "print(f\"Test Loss: {test_loss:.4f}\")"
   ]
  },
  {
   "cell_type": "code",
   "execution_count": 13,
   "id": "0797944c-8dea-41a5-be09-d1bcee959e82",
   "metadata": {},
   "outputs": [
    {
     "name": "stdout",
     "output_type": "stream",
     "text": [
      "1/1 [==============================] - 0s 42ms/step\n",
      "Sample Predictions: [0 1 1 1 1]\n",
      "Actual Labels: [0 1 1 0 1]\n"
     ]
    }
   ],
   "source": [
    "predictions = (model.predict(x_test[:5]) > 0.5).astype(\"int32\")\n",
    "print(\"Sample Predictions:\", predictions.reshape(-1))\n",
    "print(\"Actual Labels:\", y_test[:5])"
   ]
  },
  {
   "cell_type": "code",
   "execution_count": null,
   "id": "6f010a98-4ec5-4ff2-9f7e-59e64d8d2307",
   "metadata": {},
   "outputs": [],
   "source": []
  }
 ],
 "metadata": {
  "kernelspec": {
   "display_name": "Python [conda env:dlc]",
   "language": "python",
   "name": "conda-env-dlc-py"
  },
  "language_info": {
   "codemirror_mode": {
    "name": "ipython",
    "version": 3
   },
   "file_extension": ".py",
   "mimetype": "text/x-python",
   "name": "python",
   "nbconvert_exporter": "python",
   "pygments_lexer": "ipython3",
   "version": "3.7.12"
  }
 },
 "nbformat": 4,
 "nbformat_minor": 5
}
